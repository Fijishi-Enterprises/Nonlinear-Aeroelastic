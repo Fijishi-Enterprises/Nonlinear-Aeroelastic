{
 "cells": [
  {
   "attachments": {},
   "cell_type": "markdown",
   "metadata": {},
   "source": [
    "# "
   ]
  },
  {
   "attachments": {},
   "cell_type": "markdown",
   "metadata": {},
   "source": [
    "# Closed-Loop Simulation of the Pazy wing with SHARPy as a hardware-in-the-loop system"
   ]
  },
  {
   "attachments": {},
   "cell_type": "markdown",
   "metadata": {},
   "source": [
    "This tutorial exemplifies the application of an external controller on a nonlinear aeroelastic problem using SHARPy as a hardware-in-the-loop system. The controller receives sensor measurements from SHARPy using an interface based on the User Datagram Protocol (UDP). After generating the control input, the control interface feeds this input back to the actuators incorporated in SHARPy again through the UDP interface.  \n",
    "\n",
    "\n",
    "The notebook includes examples of the main methods in SHARPy for controller design in nonlinear aeroservoelastic problems, including both the generation of a linear reduced-order model (ROM) of the nonlinear model for the control design and, finally, how to apply their controller on a nonlinear aeroelastic simulation. The test case is the Pazy wing as modelled by Goizueta et al (JAircraft, 2022).\n",
    "\n",
    "Reading material recommended are:\n",
    "\n",
    "[1] Artola, M., Goizueta, N., Wynn, A., and Palacios, R., “Proof of Concept for a Hardware-in-the-Loop Nonlinear ControlFramework for Very Flexible Aircraft,”AIAA Scitech 2021 Forum, 2021. https://doi.org/10.2514/6.2021-1392.\n",
    "\n",
    "[2] Stefanie Duessler, Thulasi Mylvaganam and Rafael Palacios. \"LQG-based Gust Load Alleviation Systems for Very Flexible Aircraft,\" AIAA 2023-2571. AIAA SCITECH 2023 Forum. January 2023. https://doi.org/10.2514/6.2023-2571.\n",
    "\n",
    "And other useful references for the Pazy model and Krylov-based model order reduction scheme are:\n",
    "\n",
    "[3] Norberto Goizueta, Andrew Wynn, Rafael Palacios, Ariel Drachinsky, and Daniella E. Raveh, \"Flutter Predictions for Very Flexible Wing Wind Tunnel Test\",\n",
    "Journal of Aircraft 2022 59:4, 1082-1097. https://doi.org/10.2514/1.C036710.\n",
    "\n",
    "[4] Norberto Goizueta, Andrew Wynn, and Rafael Palacios, \"Adaptive Sampling for Interpolation of Reduced-Order Aeroelastic Systems\", AIAA Journal 2022 60:11, 6183-6202 https://doi.org/10.2514/1.J062050.\n"
   ]
  },
  {
   "attachments": {},
   "cell_type": "markdown",
   "metadata": {},
   "source": [
    "The notebook is structured such that first, we design the model and its operational point. Second, the model is linearized and reduced. The resulting reduced-order model (ROM) can then be used for an efficient control design. Third, we apply via a UDP Interface the designed controller on a nonlinear aeroelastic simulation performed with SHARPy.\n",
    "\n",
    "Please note that this notebook requires 12 hours to be completed. The longest simulation is the open-loop nonlinear gust response simulation taking around 8 hours, while the closed-loop nonlinear gust response simulation only takes 4 hours. "
   ]
  },
  {
   "attachments": {},
   "cell_type": "markdown",
   "metadata": {},
   "source": [
    "## Requirements\n",
    "\n",
    "This notebook needs to be run within the sharpy environment. Please check if you have installed SHARPy correctly. Matlab with a version of 2021a or newer is required for the preliminary control design."
   ]
  },
  {
   "cell_type": "code",
   "execution_count": 1,
   "metadata": {},
   "outputs": [],
   "source": [
    "import matplotlib.pyplot as plt\n",
    "import numpy as np\n",
    "import os\n",
    "import sharpy.cases.templates.flying_wings as wings\n",
    "import sharpy.sharpy_main\n",
    "import json"
   ]
  },
  {
   "attachments": {},
   "cell_type": "markdown",
   "metadata": {},
   "source": [
    "## Demonstrator Model \n",
    "\n",
    "The very-flexible Pazy wing serves as a demonstrator model and an aileron located near the wingtip as an actuator. The control objective in this example is to alleviate the wingtip displacement due to gust-induced wing loads. As an example, we use a P-controller implemented in a Python interface with the objective to reduce the wingtip displacement induced by a gust encounter. However, the reader can test any controller run on any platform as long as a working UDP connection to SHARPy can be established. \n",
    "\n"
   ]
  },
  {
   "attachments": {},
   "cell_type": "markdown",
   "metadata": {},
   "source": [
    "### Wind tunnel condition"
   ]
  },
  {
   "cell_type": "code",
   "execution_count": 2,
   "metadata": {},
   "outputs": [],
   "source": [
    "u_inf = 40 # m/s\n",
    "alpha_deg = 1\n",
    "rho = 1.225"
   ]
  },
  {
   "attachments": {},
   "cell_type": "markdown",
   "metadata": {},
   "source": [
    "### Wing and Wake Lattice Discretisation\n",
    "\n",
    "Note that for convergence, we would definitely require a much finer lattice grid. However, this would unnecessarily increase this notebook's duration which is already high enough with these coarse settings."
   ]
  },
  {
   "cell_type": "code",
   "execution_count": 3,
   "metadata": {},
   "outputs": [],
   "source": [
    "number_chordwise_panels = 4\n",
    "number_spanwise_nodes = 16\n",
    "wake_length_factor = 10\n",
    "\n",
    "num_control_surfaces = 2"
   ]
  },
  {
   "attachments": {},
   "cell_type": "markdown",
   "metadata": {},
   "source": [
    "### General Simulation Settings"
   ]
  },
  {
   "cell_type": "code",
   "execution_count": 4,
   "metadata": {},
   "outputs": [],
   "source": [
    "num_cores = 2\n",
    "simulation_time = 0.01 #1.0   "
   ]
  },
  {
   "cell_type": "code",
   "execution_count": 5,
   "metadata": {},
   "outputs": [],
   "source": [
    "cases_folder = './cases/' # folder to store input files \n",
    "output_folder = './output' # folder to save results\n",
    "route_notebook_dir =  os.path.abspath('')"
   ]
  },
  {
   "attachments": {},
   "cell_type": "markdown",
   "metadata": {},
   "source": [
    "## Open-Loop Gust Response\n",
    "After, defining the general model settings, we now simulate the open-loop response of the Pazy wing to a gust. For this, we first have to generate input files for the Pazy model aerodynamic and structural properties, giving the above-defined flight conditions, discretisation, and simulation settings."
   ]
  },
  {
   "cell_type": "code",
   "execution_count": 6,
   "metadata": {},
   "outputs": [],
   "source": [
    "\n",
    "case_name = 'pazy_open_loop_gust_response'\n",
    "pazy_model_open_loop = wings.PazyControlSurface(M=number_chordwise_panels,\n",
    "                                      N=number_spanwise_nodes,\n",
    "                                      Mstar_fact=wake_length_factor,\n",
    "                                      u_inf=u_inf,\n",
    "                                      alpha=alpha_deg,\n",
    "                                      rho=rho,\n",
    "                                      n_surfaces=2,\n",
    "                                      route=cases_folder + '/' + case_name,\n",
    "                                      case_name=case_name,\n",
    "                                      physical_time=simulation_time,)\n"
   ]
  },
  {
   "cell_type": "code",
   "execution_count": 7,
   "metadata": {},
   "outputs": [],
   "source": [
    "def generate_aero_and_fem_input_files(model):\n",
    "    model.clean_test_files()\n",
    "    model.update_derived_params()\n",
    "    model.generate_aero_file()\n",
    "    model.generate_fem_file()\n",
    "    \n",
    "generate_aero_and_fem_input_files(pazy_model_open_loop)"
   ]
  },
  {
   "attachments": {},
   "cell_type": "markdown",
   "metadata": {},
   "source": [
    "Next, we define the gust shape used, i.e. a 1-cosine gust with a gust length of 10 m and intensity of 2 %."
   ]
  },
  {
   "cell_type": "code",
   "execution_count": 8,
   "metadata": {},
   "outputs": [],
   "source": [
    "gust = True\n",
    "gust_settings  ={'gust_shape': '1-cos',\n",
    "                'gust_length': 10.,\n",
    "                'gust_intensity': 0.02,\n",
    "                'gust_offset': 0.}  "
   ]
  },
  {
   "attachments": {},
   "cell_type": "markdown",
   "metadata": {},
   "source": [
    "and create the final settings for the open-loop gust response simulation. Most importantly here, is the `flow` list which defines which solver will be run in which order. For more information about each solver, we kindly ask you to check our documentation (https://ic-sharpy.readthedocs.io/en/latest/content/solvers.html).\n",
    "\n",
    "We are using the `get_setttings_udp` function to create our final settings. Basic settings can be adjusted by using different inputs. Please check the function code to be aware of the parameters used here."
   ]
  },
  {
   "cell_type": "code",
   "execution_count": 9,
   "metadata": {},
   "outputs": [],
   "source": [
    "flow = ['BeamLoader',\n",
    "        'AerogridLoader',\n",
    "        'StaticCoupled',\n",
    "        'AerogridPlot',\n",
    "        'BeamPlot',\n",
    "        'DynamicCoupled',\n",
    "        ]\n",
    "from get_settings_udp import get_settings_udp\n",
    "\n",
    "pazy_model_open_loop.set_default_config_dict()\n",
    "pazy_model_open_loop.config = get_settings_udp(pazy_model_open_loop,\n",
    "                            flow,\n",
    "                            num_cores=num_cores,\n",
    "                            wake_length_factor=wake_length_factor,\n",
    "                            output_folder = output_folder,\n",
    "                            gust=gust,\n",
    "                            gust_settings=gust_settings)\n",
    "pazy_model_open_loop.config.write()"
   ]
  },
  {
   "attachments": {},
   "cell_type": "markdown",
   "metadata": {},
   "source": [
    "### Run SHARPy Simulation\n",
    "Having all input files ready, let us start the simulation. Note that this simulation takes up to eight hours. \n"
   ]
  },
  {
   "cell_type": "code",
   "execution_count": 10,
   "metadata": {},
   "outputs": [
    {
     "name": "stdout",
     "output_type": "stream",
     "text": [
      "--------------------------------------------------------------------------------\u001b[0m\n",
      "            ######  ##     ##    ###    ########  ########  ##    ##\u001b[0m\n",
      "           ##    ## ##     ##   ## ##   ##     ## ##     ##  ##  ##\u001b[0m\n",
      "           ##       ##     ##  ##   ##  ##     ## ##     ##   ####\u001b[0m\n",
      "            ######  ######### ##     ## ########  ########     ##\u001b[0m\n",
      "                 ## ##     ## ######### ##   ##   ##           ##\u001b[0m\n",
      "           ##    ## ##     ## ##     ## ##    ##  ##           ##\u001b[0m\n",
      "            ######  ##     ## ##     ## ##     ## ##           ##\u001b[0m\n",
      "--------------------------------------------------------------------------------\u001b[0m\n",
      "Aeroelastics Lab, Aeronautics Department.\u001b[0m\n",
      "    Copyright (c), Imperial College London.\u001b[0m\n",
      "    All rights reserved.\u001b[0m\n",
      "    License available at https://github.com/imperialcollegelondon/sharpy\u001b[0m\n",
      "\u001b[36mRunning SHARPy from /home/rpalacio/sharpy/docs/source/content/example_notebooks/UDP_control\u001b[0m\n",
      "\u001b[36mSHARPy being run is in /home/rpalacio/anaconda3/envs/sharpy/lib/python3.10/site-packages\u001b[0m\n",
      "SHARPy output folder set\u001b[0m\n",
      "\u001b[34m\t./output//pazy_open_loop_gust_response/\u001b[0m\n",
      "\u001b[36mGenerating an instance of BeamLoader\u001b[0m\n",
      "Variable for_pos has no assigned value in the settings file.\u001b[0m\n",
      "\u001b[34m    will default to the value: [0.0, 0, 0]\u001b[0m\n",
      "\u001b[36mGenerating an instance of AerogridLoader\u001b[0m\n",
      "Variable freestream_dir has no assigned value in the settings file.\u001b[0m\n",
      "\u001b[34m    will default to the value: [1.0, 0.0, 0.0]\u001b[0m\n",
      "Variable control_surface_deflection has no assigned value in the settings file.\u001b[0m\n",
      "\u001b[34m    will default to the value: []\u001b[0m\n",
      "Variable control_surface_deflection_generator_settings has no assigned value in the settings file.\u001b[0m\n",
      "\u001b[34m    will default to the value: {}\u001b[0m\n",
      "Variable dx1 has no assigned value in the settings file.\u001b[0m\n",
      "\u001b[34m    will default to the value: -1.0\u001b[0m\n",
      "Variable ndx1 has no assigned value in the settings file.\u001b[0m\n",
      "\u001b[34m    will default to the value: 1\u001b[0m\n",
      "Variable r has no assigned value in the settings file.\u001b[0m\n",
      "\u001b[34m    will default to the value: 1.0\u001b[0m\n",
      "Variable dxmax has no assigned value in the settings file.\u001b[0m\n",
      "\u001b[34m    will default to the value: -1.0\u001b[0m\n",
      "\u001b[34mThe aerodynamic grid contains 2 surfaces\u001b[0m\n",
      "\u001b[34m  Surface 0, M=4, N=8\u001b[0m\n",
      "     Wake 0, M=40, N=8\u001b[0m\n",
      "\u001b[34m  Surface 1, M=4, N=8\u001b[0m\n",
      "     Wake 1, M=40, N=8\u001b[0m\n",
      "  In total: 64 bound panels\u001b[0m\n",
      "  In total: 640 wake panels\u001b[0m\n",
      "  Total number of panels = 704\u001b[0m\n",
      "\u001b[36mGenerating an instance of StaticCoupled\u001b[0m\n",
      "Variable correct_forces_method has no assigned value in the settings file.\u001b[0m\n",
      "\u001b[34m    will default to the value: \u001b[0m\n",
      "Variable correct_forces_settings has no assigned value in the settings file.\u001b[0m\n",
      "\u001b[34m    will default to the value: {}\u001b[0m\n",
      "Variable runtime_generators has no assigned value in the settings file.\u001b[0m\n",
      "\u001b[34m    will default to the value: {}\u001b[0m\n",
      "\u001b[36mGenerating an instance of NonLinearStatic\u001b[0m\n",
      "Variable abs_threshold has no assigned value in the settings file.\u001b[0m\n",
      "\u001b[34m    will default to the value: 1e-13\u001b[0m\n",
      "Variable newmark_damp has no assigned value in the settings file.\u001b[0m\n",
      "\u001b[34m    will default to the value: 0.0001\u001b[0m\n",
      "Variable gravity_on has no assigned value in the settings file.\u001b[0m\n",
      "\u001b[34m    will default to the value: False\u001b[0m\n",
      "Variable gravity_dir has no assigned value in the settings file.\u001b[0m\n",
      "\u001b[34m    will default to the value: [0.0, 0.0, 1.0]\u001b[0m\n",
      "Variable relaxation_factor has no assigned value in the settings file.\u001b[0m\n",
      "\u001b[34m    will default to the value: 0.3\u001b[0m\n",
      "Variable dt has no assigned value in the settings file.\u001b[0m\n",
      "\u001b[34m    will default to the value: 0.01\u001b[0m\n",
      "Variable num_steps has no assigned value in the settings file.\u001b[0m\n",
      "\u001b[34m    will default to the value: 500\u001b[0m\n",
      "Variable initial_position has no assigned value in the settings file.\u001b[0m\n",
      "\u001b[34m    will default to the value: [0. 0. 0.]\u001b[0m\n",
      "Variable initial_velocity has no assigned value in the settings file.\u001b[0m\n",
      "\u001b[34m    will default to the value: [0. 0. 0. 0. 0. 0.]\u001b[0m\n",
      "\u001b[36mGenerating an instance of StaticUvlm\u001b[0m\n",
      "Variable rollup_dt has no assigned value in the settings file.\u001b[0m\n",
      "\u001b[34m    will default to the value: 0.1\u001b[0m\n",
      "Variable rollup_aic_refresh has no assigned value in the settings file.\u001b[0m\n",
      "\u001b[34m    will default to the value: 1\u001b[0m\n",
      "Variable rollup_tolerance has no assigned value in the settings file.\u001b[0m\n",
      "\u001b[34m    will default to the value: 0.0001\u001b[0m\n",
      "Variable iterative_solver has no assigned value in the settings file.\u001b[0m\n",
      "\u001b[34m    will default to the value: False\u001b[0m\n",
      "Variable iterative_tol has no assigned value in the settings file.\u001b[0m\n",
      "\u001b[34m    will default to the value: 0.0001\u001b[0m\n",
      "Variable iterative_precond has no assigned value in the settings file.\u001b[0m\n",
      "\u001b[34m    will default to the value: False\u001b[0m\n",
      "Variable cfl1 has no assigned value in the settings file.\u001b[0m\n",
      "\u001b[34m    will default to the value: True\u001b[0m\n",
      "Variable vortex_radius_wake_ind has no assigned value in the settings file.\u001b[0m\n",
      "\u001b[34m    will default to the value: 1e-06\u001b[0m\n",
      "Variable rbm_vel_g has no assigned value in the settings file.\u001b[0m\n",
      "\u001b[34m    will default to the value: [0.0, 0.0, 0.0, 0.0, 0.0, 0.0]\u001b[0m\n",
      "Variable centre_rot_g has no assigned value in the settings file.\u001b[0m\n",
      "\u001b[34m    will default to the value: [0.0, 0.0, 0.0]\u001b[0m\n",
      "Variable map_forces_on_struct has no assigned value in the settings file.\u001b[0m\n",
      "\u001b[34m    will default to the value: False\u001b[0m\n",
      "\u001b[0m\n",
      "\u001b[0m\n",
      "\u001b[0m\n",
      "|=====|=====|============|==========|==========|==========|==========|==========|==========|\u001b[0m\n",
      "|iter |step | log10(res) |    Fx    |    Fy    |    Fz    |    Mx    |    My    |    Mz    |\u001b[0m\n",
      "|=====|=====|============|==========|==========|==========|==========|==========|==========|\u001b[0m\n"
     ]
    },
    {
     "name": "stderr",
     "output_type": "stream",
     "text": [
      "fatal: not a git repository (or any of the parent directories): .git\n"
     ]
    },
    {
     "name": "stdout",
     "output_type": "stream",
     "text": [
      "|  0  |  0  |  0.00000   | -0.0277  |  0.0000  |  1.9185  |  0.0000  |  0.0387  | -0.0000  |\u001b[0m\n",
      "|  1  |  0  |  -6.69935  | -0.0290  |  0.0000  |  1.9636  |  0.0000  |  0.0396  | -0.0000  |\u001b[0m\n",
      "|  0  |  1  |  0.00000   | -0.0566  |  0.0000  |  3.9396  | -0.0000  |  0.0794  | -0.0000  |\u001b[0m\n",
      "|  1  |  1  |  -6.06871  | -0.0592  |  0.0000  |  4.0325  | -0.0000  |  0.0812  | -0.0000  |\u001b[0m\n",
      "|  0  |  2  |  0.00000   | -0.0866  |  0.0000  |  6.0718  | -0.0000  |  0.1222  | -0.0000  |\u001b[0m\n",
      "|  1  |  2  |  -5.68671  | -0.0906  |  0.0000  |  6.2157  | -0.0000  |  0.1250  | -0.0000  |\u001b[0m\n",
      "|  0  |  3  |  0.00000   | -0.1177  |  0.0000  |  8.3244  | -0.0000  |  0.1673  | -0.0000  |\u001b[0m\n",
      "|  1  |  3  |  -5.40580  | -0.1233  |  0.0000  |  8.5230  | -0.0000  |  0.1712  | -0.0000  |\u001b[0m\n",
      "|  0  |  4  |  0.00000   | -0.1501  |  0.0000  | 10.7075  | -0.0000  |  0.2149  | -0.0000  |\u001b[0m\n",
      "|  1  |  4  |  -5.17976  | -0.1572  |  0.0000  | 10.9648  | -0.0000  |  0.2200  | -0.0000  |\u001b[0m\n",
      "\u001b[36mGenerating an instance of AerogridPlot\u001b[0m\n",
      "Variable include_forward_motion has no assigned value in the settings file.\u001b[0m\n",
      "\u001b[34m    will default to the value: False\u001b[0m\n",
      "Variable include_unsteady_applied_forces has no assigned value in the settings file.\u001b[0m\n",
      "\u001b[34m    will default to the value: False\u001b[0m\n",
      "Variable name_prefix has no assigned value in the settings file.\u001b[0m\n",
      "\u001b[34m    will default to the value: \u001b[0m\n",
      "Variable u_inf has no assigned value in the settings file.\u001b[0m\n",
      "\u001b[34m    will default to the value: 0.0\u001b[0m\n",
      "Variable dt has no assigned value in the settings file.\u001b[0m\n",
      "\u001b[34m    will default to the value: 0.0\u001b[0m\n",
      "Variable include_velocities has no assigned value in the settings file.\u001b[0m\n",
      "\u001b[34m    will default to the value: False\u001b[0m\n",
      "Variable include_incidence_angle has no assigned value in the settings file.\u001b[0m\n",
      "\u001b[34m    will default to the value: False\u001b[0m\n",
      "Variable num_cores has no assigned value in the settings file.\u001b[0m\n",
      "\u001b[34m    will default to the value: 1\u001b[0m\n",
      "Variable vortex_radius has no assigned value in the settings file.\u001b[0m\n",
      "\u001b[34m    will default to the value: 1e-06\u001b[0m\n",
      "Variable stride has no assigned value in the settings file.\u001b[0m\n",
      "\u001b[34m    will default to the value: 1\u001b[0m\n",
      "Variable save_wake has no assigned value in the settings file.\u001b[0m\n",
      "\u001b[34m    will default to the value: True\u001b[0m\n",
      "\u001b[34m...Finished\u001b[0m\n",
      "\u001b[36mGenerating an instance of BeamPlot\u001b[0m\n",
      "Variable include_FoR has no assigned value in the settings file.\u001b[0m\n",
      "\u001b[34m    will default to the value: False\u001b[0m\n",
      "Variable include_applied_moments has no assigned value in the settings file.\u001b[0m\n",
      "\u001b[34m    will default to the value: True\u001b[0m\n",
      "Variable name_prefix has no assigned value in the settings file.\u001b[0m\n",
      "\u001b[34m    will default to the value: \u001b[0m\n",
      "Variable output_rbm has no assigned value in the settings file.\u001b[0m\n",
      "\u001b[34m    will default to the value: True\u001b[0m\n",
      "\u001b[34m...Finished\u001b[0m\n",
      "\u001b[36mGenerating an instance of DynamicCoupled\u001b[0m\n",
      "Variable controller_id has no assigned value in the settings file.\u001b[0m\n",
      "\u001b[34m    will default to the value: {}\u001b[0m\n",
      "Variable controller_settings has no assigned value in the settings file.\u001b[0m\n",
      "\u001b[34m    will default to the value: {}\u001b[0m\n",
      "Variable steps_without_unsteady_force has no assigned value in the settings file.\u001b[0m\n",
      "\u001b[34m    will default to the value: 0\u001b[0m\n",
      "Variable pseudosteps_ramp_unsteady_force has no assigned value in the settings file.\u001b[0m\n",
      "\u001b[34m    will default to the value: 0\u001b[0m\n",
      "Variable correct_forces_method has no assigned value in the settings file.\u001b[0m\n",
      "\u001b[34m    will default to the value: \u001b[0m\n",
      "Variable correct_forces_settings has no assigned value in the settings file.\u001b[0m\n",
      "\u001b[34m    will default to the value: {}\u001b[0m\n",
      "Variable runtime_generators has no assigned value in the settings file.\u001b[0m\n",
      "\u001b[34m    will default to the value: {}\u001b[0m\n",
      "\u001b[36mGenerating an instance of NonLinearDynamicPrescribedStep\u001b[0m\n",
      "\u001b[36mGenerating an instance of StepUvlm\u001b[0m\n",
      "Variable num_load_steps has no assigned value in the settings file.\u001b[0m\n",
      "\u001b[34m    will default to the value: 1\u001b[0m\n",
      "Variable abs_threshold has no assigned value in the settings file.\u001b[0m\n",
      "\u001b[34m    will default to the value: 1e-13\u001b[0m\n",
      "Variable gravity_on has no assigned value in the settings file.\u001b[0m\n",
      "\u001b[34m    will default to the value: False\u001b[0m\n",
      "Variable gravity_dir has no assigned value in the settings file.\u001b[0m\n",
      "\u001b[34m    will default to the value: [0.0, 0.0, 1.0]\u001b[0m\n",
      "Variable relaxation_factor has no assigned value in the settings file.\u001b[0m\n",
      "\u001b[34m    will default to the value: 0.3\u001b[0m\n",
      "Variable iterative_solver has no assigned value in the settings file.\u001b[0m\n",
      "\u001b[34m    will default to the value: False\u001b[0m\n",
      "Variable iterative_tol has no assigned value in the settings file.\u001b[0m\n",
      "\u001b[34m    will default to the value: 0.0001\u001b[0m\n",
      "Variable iterative_precond has no assigned value in the settings file.\u001b[0m\n",
      "\u001b[34m    will default to the value: False\u001b[0m\n",
      "Variable cfl1 has no assigned value in the settings file.\u001b[0m\n",
      "\u001b[34m    will default to the value: True\u001b[0m\n",
      "Variable vortex_radius_wake_ind has no assigned value in the settings file.\u001b[0m\n",
      "\u001b[34m    will default to the value: 1e-06\u001b[0m\n",
      "Variable interp_coords has no assigned value in the settings file.\u001b[0m\n",
      "\u001b[34m    will default to the value: 0\u001b[0m\n",
      "Variable filter_method has no assigned value in the settings file.\u001b[0m\n",
      "\u001b[34m    will default to the value: 0\u001b[0m\n",
      "Variable interp_method has no assigned value in the settings file.\u001b[0m\n",
      "\u001b[34m    will default to the value: 0\u001b[0m\n",
      "Variable yaw_slerp has no assigned value in the settings file.\u001b[0m\n",
      "\u001b[34m    will default to the value: 0.0\u001b[0m\n",
      "Variable centre_rot has no assigned value in the settings file.\u001b[0m\n",
      "\u001b[34m    will default to the value: [0.0, 0.0, 0.0]\u001b[0m\n",
      "Variable quasi_steady has no assigned value in the settings file.\u001b[0m\n",
      "\u001b[34m    will default to the value: False\u001b[0m\n",
      "Variable gust_component has no assigned value in the settings file.\u001b[0m\n",
      "\u001b[34m    will default to the value: 2\u001b[0m\n",
      "\u001b[36mGenerating an instance of WriteVariablesTime\u001b[0m\n",
      "Variable delimiter has no assigned value in the settings file.\u001b[0m\n",
      "\u001b[34m    will default to the value:  \u001b[0m\n",
      "Variable FoR_variables has no assigned value in the settings file.\u001b[0m\n",
      "\u001b[34m    will default to the value: ['']\u001b[0m\n",
      "Variable FoR_number has no assigned value in the settings file.\u001b[0m\n",
      "\u001b[34m    will default to the value: [0]\u001b[0m\n",
      "Variable aero_panels_variables has no assigned value in the settings file.\u001b[0m\n",
      "\u001b[34m    will default to the value: ['']\u001b[0m\n",
      "Variable aero_panels_isurf has no assigned value in the settings file.\u001b[0m\n",
      "\u001b[34m    will default to the value: [0]\u001b[0m\n",
      "Variable aero_panels_im has no assigned value in the settings file.\u001b[0m\n",
      "\u001b[34m    will default to the value: [0]\u001b[0m\n",
      "Variable aero_panels_in has no assigned value in the settings file.\u001b[0m\n",
      "\u001b[34m    will default to the value: [0]\u001b[0m\n",
      "Variable aero_nodes_variables has no assigned value in the settings file.\u001b[0m\n",
      "\u001b[34m    will default to the value: ['']\u001b[0m\n",
      "Variable aero_nodes_isurf has no assigned value in the settings file.\u001b[0m\n",
      "\u001b[34m    will default to the value: [0]\u001b[0m\n",
      "Variable aero_nodes_im has no assigned value in the settings file.\u001b[0m\n",
      "\u001b[34m    will default to the value: [0]\u001b[0m\n",
      "Variable aero_nodes_in has no assigned value in the settings file.\u001b[0m\n",
      "\u001b[34m    will default to the value: [0]\u001b[0m\n",
      "Variable cleanup_old_solution has no assigned value in the settings file.\u001b[0m\n",
      "\u001b[34m    will default to the value: False\u001b[0m\n",
      "Variable vel_field_variables has no assigned value in the settings file.\u001b[0m\n",
      "\u001b[34m    will default to the value: []\u001b[0m\n",
      "Variable vel_field_points has no assigned value in the settings file.\u001b[0m\n",
      "\u001b[34m    will default to the value: [0. 0. 0.]\u001b[0m\n",
      "\u001b[36mGenerating an instance of BeamPlot\u001b[0m\n",
      "Variable include_FoR has no assigned value in the settings file.\u001b[0m\n",
      "\u001b[34m    will default to the value: False\u001b[0m\n",
      "Variable include_applied_moments has no assigned value in the settings file.\u001b[0m\n",
      "\u001b[34m    will default to the value: True\u001b[0m\n",
      "Variable name_prefix has no assigned value in the settings file.\u001b[0m\n",
      "\u001b[34m    will default to the value: \u001b[0m\n",
      "Variable output_rbm has no assigned value in the settings file.\u001b[0m\n",
      "\u001b[34m    will default to the value: True\u001b[0m\n",
      "\u001b[36mGenerating an instance of AerogridPlot\u001b[0m\n",
      "Variable include_forward_motion has no assigned value in the settings file.\u001b[0m\n",
      "\u001b[34m    will default to the value: False\u001b[0m\n",
      "Variable include_unsteady_applied_forces has no assigned value in the settings file.\u001b[0m\n",
      "\u001b[34m    will default to the value: False\u001b[0m\n",
      "Variable name_prefix has no assigned value in the settings file.\u001b[0m\n",
      "\u001b[34m    will default to the value: \u001b[0m\n",
      "Variable dt has no assigned value in the settings file.\u001b[0m\n",
      "\u001b[34m    will default to the value: 0.0\u001b[0m\n",
      "Variable include_velocities has no assigned value in the settings file.\u001b[0m\n",
      "\u001b[34m    will default to the value: False\u001b[0m\n",
      "Variable include_incidence_angle has no assigned value in the settings file.\u001b[0m\n",
      "\u001b[34m    will default to the value: False\u001b[0m\n",
      "Variable num_cores has no assigned value in the settings file.\u001b[0m\n",
      "\u001b[34m    will default to the value: 1\u001b[0m\n",
      "Variable vortex_radius has no assigned value in the settings file.\u001b[0m\n",
      "\u001b[34m    will default to the value: 1e-06\u001b[0m\n",
      "Variable stride has no assigned value in the settings file.\u001b[0m\n",
      "\u001b[34m    will default to the value: 1\u001b[0m\n",
      "Variable save_wake has no assigned value in the settings file.\u001b[0m\n",
      "\u001b[34m    will default to the value: True\u001b[0m\n",
      "\u001b[0m\n",
      "\u001b[0m\n",
      "\u001b[0m\n",
      "|=======|========|======|==============|==============|==============|==============|==============|\u001b[0m\n",
      "|  ts   |   t    | iter | struc ratio  |  iter time   | residual vel |  FoR_vel(x)  |  FoR_vel(z)  |\u001b[0m\n",
      "|=======|========|======|==============|==============|==============|==============|==============|\u001b[0m\n",
      "|   1   | 0.0006 |  5   |   0.951061   |   9.456737   |  -6.417211   | 0.000000e+00 | 0.000000e+00 |\u001b[0m\n",
      "|   2   | 0.0013 |  4   |   0.961166   |   8.881808   |  -6.496227   | 0.000000e+00 | 0.000000e+00 |\u001b[0m\n",
      "|   3   | 0.0019 |  3   |   0.954960   |   6.259784   |  -6.173354   | 0.000000e+00 | 0.000000e+00 |\u001b[0m\n",
      "|   4   | 0.0025 |  3   |   0.956220   |   6.805657   |  -6.020512   | 0.000000e+00 | 0.000000e+00 |\u001b[0m\n",
      "|   5   | 0.0031 |  4   |   0.952874   |   7.968323   |  -6.536090   | 0.000000e+00 | 0.000000e+00 |\u001b[0m\n",
      "|   6   | 0.0037 |  4   |   0.958732   |   8.287290   |  -6.365510   | 0.000000e+00 | 0.000000e+00 |\u001b[0m\n",
      "|   7   | 0.0044 |  4   |   0.947452   |   7.876304   |  -6.233103   | 0.000000e+00 | 0.000000e+00 |\u001b[0m\n",
      "|   8   | 0.0050 |  4   |   0.967588   |  10.442532   |  -6.162708   | 0.000000e+00 | 0.000000e+00 |\u001b[0m\n",
      "|   9   | 0.0056 |  4   |   0.960364   |   9.564820   |  -6.113240   | 0.000000e+00 | 0.000000e+00 |\u001b[0m\n",
      "|  10   | 0.0063 |  4   |   0.951387   |   7.889164   |  -6.082344   | 0.000000e+00 | 0.000000e+00 |\u001b[0m\n",
      "|  11   | 0.0069 |  4   |   0.953629   |   8.352310   |  -6.038075   | 0.000000e+00 | 0.000000e+00 |\u001b[0m\n",
      "|  12   | 0.0075 |  5   |   0.956875   |  10.907872   |  -6.727378   | 0.000000e+00 | 0.000000e+00 |\u001b[0m\n",
      "|  13   | 0.0081 |  5   |   0.955108   |  10.539495   |  -6.701112   | 0.000000e+00 | 0.000000e+00 |\u001b[0m\n",
      "|  14   | 0.0088 |  5   |   0.955503   |  10.423511   |  -6.665381   | 0.000000e+00 | 0.000000e+00 |\u001b[0m\n",
      "|  15   | 0.0094 |  5   |   0.952276   |   9.947705   |  -6.619206   | 0.000000e+00 | 0.000000e+00 |\u001b[0m\n",
      "|  16   | 0.0100 |  5   |   0.957353   |  11.236552   |  -6.570860   | 0.000000e+00 | 0.000000e+00 |\u001b[0m\n",
      "\u001b[34m...Finished\u001b[0m\n",
      "\u001b[36mFINISHED - Elapsed time = 155.6922046 seconds\u001b[0m\n",
      "\u001b[36mFINISHED - CPU process time = 1182.1473616 seconds\u001b[0m\n"
     ]
    },
    {
     "data": {
      "text/plain": [
       "<sharpy.presharpy.presharpy.PreSharpy at 0x7fa5c43d30a0>"
      ]
     },
     "execution_count": 10,
     "metadata": {},
     "output_type": "execute_result"
    }
   ],
   "source": [
    "sharpy.sharpy_main.main(['', pazy_model_open_loop.route + pazy_model_open_loop.case_name + '.sharpy'])"
   ]
  },
  {
   "attachments": {},
   "cell_type": "markdown",
   "metadata": {},
   "source": [
    "#### Resulting Gust-induced Tip Deflection"
   ]
  },
  {
   "attachments": {},
   "cell_type": "markdown",
   "metadata": {},
   "source": [
    "To get a feeling of the gust-induced deformation at the wingtip, we now display the vertical tip deflection."
   ]
  },
  {
   "cell_type": "code",
   "execution_count": 11,
   "metadata": {},
   "outputs": [
    {
     "ename": "NameError",
     "evalue": "name 'time_array' is not defined",
     "output_type": "error",
     "traceback": [
      "\u001b[0;31m---------------------------------------------------------------------------\u001b[0m",
      "\u001b[0;31mNameError\u001b[0m                                 Traceback (most recent call last)",
      "Cell \u001b[0;32mIn[11], line 1\u001b[0m\n\u001b[0;32m----> 1\u001b[0m \u001b[38;5;28mprint\u001b[39m(\u001b[43mtime_array\u001b[49m\u001b[38;5;241m.\u001b[39mshape)\n\u001b[1;32m      2\u001b[0m \u001b[38;5;28mprint\u001b[39m(normalised_tip_displacement\u001b[38;5;241m.\u001b[39mshape)\n\u001b[1;32m      3\u001b[0m pazy_model_open_loop\u001b[38;5;241m.\u001b[39mdt\n",
      "\u001b[0;31mNameError\u001b[0m: name 'time_array' is not defined"
     ]
    }
   ],
   "source": [
    "print(time_array.shape)\n",
    "print(normalised_tip_displacement.shape)\n",
    "pazy_model_open_loop.dt"
   ]
  },
  {
   "cell_type": "code",
   "execution_count": null,
   "metadata": {
    "scrolled": true
   },
   "outputs": [],
   "source": [
    "def get_resulting_vertical_tip_displacement(output_folder, model):    \n",
    "    file_results = os.path.join(output_folder, \n",
    "                                 model.case_name, \n",
    "                                 'WriteVariablesTime',\n",
    "                                 'struct_pos_node{}.dat'.format(model.num_node_surf))\n",
    "    vertical_tip_displacement = np.loadtxt(file_results)[:,-1]\n",
    "    \n",
    "                                             \n",
    "    return vertical_tip_displacement\n",
    "\n",
    "\n",
    "tip_displacement_open_loop = get_resulting_vertical_tip_displacement(output_folder, \n",
    "                                                                     pazy_model_open_loop)\n",
    "\n",
    "\n",
    "time_array = np.arange(pazy_model_open_loop.dt,(len(tip_displacement_open_loop)+1) * pazy_model_open_loop.dt, pazy_model_open_loop.dt)\n",
    "normalised_tip_displacement = tip_displacement_open_loop/ (0.5*pazy_model_open_loop.b_ref) #normalise by half wing span\n",
    "\n",
    "plt.plot(time_array, 100*normalised_tip_displacement)\n",
    "plt.xlabel('time, sec')\n",
    "plt.ylabel('$z_{tip}/(b_{ref}/2)$, %')\n",
    "plt.xlim([0., simulation_time])\n",
    "plt.grid()\n",
    "plt.show()"
   ]
  },
  {
   "attachments": {},
   "cell_type": "markdown",
   "metadata": {},
   "source": [
    "## Generate linear ROM\n",
    "\n",
    "We continue with the linearization of the nonlinear aeroelastic model of the Pazy wing at the previously defined operational point and a subsequent reduction of the resulting linear state-space system. The structural and aerodynamic models are linearized and reduced separately and finally couple both resulting linear systems. Please see [2] for more details. \n",
    "\n",
    "The generation of the linear model for the coarse discretisation used, just takes a few seconds, as well as the execution of the linear response computation using Matlab. No need to skip anything here to save time. "
   ]
  },
  {
   "attachments": {},
   "cell_type": "markdown",
   "metadata": {},
   "source": [
    "### Define Simulation Settings\n",
    "We can re-use the simulation settings from the open-loop case with a few exceptions. Besides the name, of course, we need to extend the simulation `flow` list by the solvers needed for the linearization and export of the resulting linear state-space system. Further, we need to change the simulation time as we need to run only on the simulation timestep of the `DynamicCoupled` solver before the linearization. Also, no gust encounter is needed as we linearise the model around its equilibrium during steady-flight conditions."
   ]
  },
  {
   "cell_type": "code",
   "execution_count": null,
   "metadata": {},
   "outputs": [],
   "source": [
    "case_name = 'pazy_ROM'\n",
    "\n",
    "flow = ['BeamLoader',\n",
    "        'AerogridLoader',\n",
    "        'StaticCoupled',\n",
    "        'DynamicCoupled',\n",
    "        'Modal',\n",
    "        'LinearAssembler',\n",
    "        'SaveData',\n",
    "        ]\n",
    "\n",
    "simulation_time_ROM = pazy_model_open_loop.dt # only one timestep has to be performed\n",
    "gust = False"
   ]
  },
  {
   "attachments": {},
   "cell_type": "markdown",
   "metadata": {},
   "source": [
    "We further need to define the method used to reduce the linearized aerodynamic model. Here, we are going to apply a Krylov-based model order reduction scheme for the aerodynamic system, see [4] for more information. Please note that this is only one of the reduction methods implemented in SHARPy. We also offer various reduction schemes based on balancing methods."
   ]
  },
  {
   "cell_type": "code",
   "execution_count": null,
   "metadata": {},
   "outputs": [],
   "source": [
    "use_rom = True\n",
    "rom_settings = {\n",
    "    'use': use_rom,\n",
    "    'rom_method': 'Krylov',\n",
    "    'rom_method_settings': {'Krylov': {\n",
    "                                        'algorithm': 'mimo_rational_arnoldi',\n",
    "                                        'r': 4, \n",
    "                                        'frequency': np.array([0]),\n",
    "                                        'single_side': 'observability',\n",
    "                                        },\n",
    "                           }\n",
    "                }"
   ]
  },
  {
   "attachments": {},
   "cell_type": "markdown",
   "metadata": {},
   "source": [
    "The linearised structural model is reduced by using modal projection and truncating non-dominant modes. Here, we keep the first 20 modes."
   ]
  },
  {
   "cell_type": "code",
   "execution_count": null,
   "metadata": {},
   "outputs": [],
   "source": [
    "num_modes = 20\n"
   ]
  },
  {
   "attachments": {},
   "cell_type": "markdown",
   "metadata": {},
   "source": [
    "Further, we have deactivated the unsteady force contribution before generating the linear model and indicate that for the resulting linear system, we would like to retain the gust input for our preliminary control design study."
   ]
  },
  {
   "cell_type": "code",
   "execution_count": null,
   "metadata": {},
   "outputs": [],
   "source": [
    "unsteady_force_contribution = False\n",
    "remove_gust_input_in_statespace = False"
   ]
  },
  {
   "attachments": {},
   "cell_type": "markdown",
   "metadata": {},
   "source": [
    "### Generate Input Files\n",
    "As before, we generate all necessary input files for the simulation."
   ]
  },
  {
   "cell_type": "code",
   "execution_count": null,
   "metadata": {},
   "outputs": [],
   "source": [
    "pazy_model_ROM = wings.PazyControlSurface(M=number_chordwise_panels,\n",
    "                                      N=number_spanwise_nodes,\n",
    "                                      Mstar_fact=wake_length_factor,\n",
    "                                      u_inf=u_inf,\n",
    "                                      alpha=alpha_deg,\n",
    "                                      rho=rho,\n",
    "                                      n_surfaces=2,\n",
    "                                      route=cases_folder + '/' + case_name,\n",
    "                                      case_name=case_name,\n",
    "                                      physical_time=simulation_time_ROM,)\n",
    "\n",
    "generate_aero_and_fem_input_files(pazy_model_ROM)\n"
   ]
  },
  {
   "cell_type": "code",
   "execution_count": null,
   "metadata": {},
   "outputs": [],
   "source": [
    "pazy_model_ROM.set_default_config_dict()\n",
    "pazy_model_ROM.config = get_settings_udp(pazy_model_ROM,\n",
    "                            flow,\n",
    "                            num_cores=num_cores,\n",
    "                            wake_length_factor=wake_length_factor,\n",
    "                            output_folder = output_folder,\n",
    "                            gust=gust,\n",
    "                            gust_settings=gust_settings,\n",
    "                            num_modes = num_modes,\n",
    "                            rom_settings = rom_settings,\n",
    "                            remove_gust_input_in_statespace=remove_gust_input_in_statespace,\n",
    "                            unsteady_force_distribution=unsteady_force_contribution)\n",
    "pazy_model_ROM.config.write()"
   ]
  },
  {
   "attachments": {},
   "cell_type": "markdown",
   "metadata": {},
   "source": [
    "### Run SHARPy Simulation\n",
    "Before running SHARPy, we remove the old linear system generated if existing. It would cause an error that still needs to be fixed (your first contribution?)."
   ]
  },
  {
   "cell_type": "code",
   "execution_count": null,
   "metadata": {},
   "outputs": [],
   "source": [
    "if os.path.isfile(os.path.join(output_folder, pazy_model_ROM.case_name, 'savedata', pazy_model_ROM.case_name + '.linss.h5')):\n",
    "    os.remove(os.path.join(output_folder, pazy_model_ROM.case_name, 'savedata', pazy_model_ROM.case_name + '.linss.h5'))"
   ]
  },
  {
   "cell_type": "code",
   "execution_count": null,
   "metadata": {},
   "outputs": [],
   "source": [
    "\n",
    "sharpy.sharpy_main.main(['', pazy_model_ROM.route + pazy_model_ROM.case_name + '.sharpy'])"
   ]
  },
  {
   "attachments": {},
   "cell_type": "markdown",
   "metadata": {},
   "source": [
    "### Prepare Linear System for specific Controller\n",
    "An overview of the generated linear ROM can be found near the end of the log file, including the number of states, inputs, and outputs as well as the indices mapped to each parameter. The saved linear ROM contains several unused input and output variables. The final simulation is expected to take 8 hours. Again, the results are uploaded *here* and it is still recommended to check if everything is running properly instead of skipping the entire simulation.\n",
    "\n",
    "We start with reading the matrices from the h5 file and get rid of all unused input and output variables that are not needed for the control design. More precisely, we keep the gust and control surface inputs as well as the vertical tip displacements as an output. \n",
    "\n",
    "The system input includes the control surface deflection and its rate but does not know that they are related. For small timesteps, as for this case, we can assume a linear relationship through numerical gradients $\\dot{\\delta} = \\frac{\\delta - \\delta^-}{dt}$ with *-* indicating the previous timestep.\n",
    "\n",
    "Subsequently, we simulate the open-loop and closed-loop responses for different proportional gains of the P-controller.\n",
    "\n",
    "But first, we save some parameters needed for this to a json file which is later loaded in the control script to avoid making changes in different files. "
   ]
  },
  {
   "cell_type": "code",
   "execution_count": null,
   "metadata": {},
   "outputs": [],
   "source": [
    "folder_linear_results =os.path.join(output_folder, pazy_model_ROM.case_name,'linear_results')\n",
    "if not os.path.exists(folder_linear_results):\n",
    "    os.makedirs(folder_linear_results)\n",
    "    \n",
    "import scipy.io\n",
    "\n",
    "parameter_matlab = {'num_aero_states': 80, # see log file\n",
    "                    'num_modes': 20,  # see log file\n",
    "                     'u_inf': float(pazy_model_ROM.u_inf),\n",
    "                    'simulation_time': simulation_time,\n",
    "                    'gust_length': float(gust_settings['gust_length']),\n",
    "                    'gust_intensity': float(gust_settings['gust_intensity']),\n",
    "                    'num_control_surfaces': num_control_surfaces,\n",
    "                    'n_nodes': number_spanwise_nodes,\n",
    "                    'control_input_start': 193 + 1, # see log file and + 1 for matlab indices\n",
    "                    'gust_input_start': 192 + 1 , # see log file and + 1 for matlab indices\n",
    "                   }\n",
    "\n",
    "scipy.io.savemat(os.path.join(folder_linear_results, 'simulation_parameters.mat'), parameter_matlab)"
   ]
  },
  {
   "attachments": {},
   "cell_type": "markdown",
   "metadata": {},
   "source": [
    "Next, we open Matlab and run the script *control_design_script.m* from the path"
   ]
  },
  {
   "cell_type": "code",
   "execution_count": null,
   "metadata": {},
   "outputs": [],
   "source": [
    "route_notebook_dir"
   ]
  },
  {
   "attachments": {},
   "cell_type": "markdown",
   "metadata": {},
   "source": [
    "which runs the linear open-loop gust response of this problem as well as two linear closed-loop gust responses using a P-controller with two different gain values. This P-controller is using the deviation of the vertical tip displacement to its reference condition as an error function. Finally, the script is saving the results as txt files in your output folder and to which we are taking a closer look next."
   ]
  },
  {
   "attachments": {},
   "cell_type": "markdown",
   "metadata": {},
   "source": [
    "### Postprocessing\n",
    "Now, let us have a look at the linear results generated:"
   ]
  },
  {
   "cell_type": "code",
   "execution_count": null,
   "metadata": {},
   "outputs": [],
   "source": [
    "# Load linear results\n",
    "tip_deflection_linear = np.loadtxt(folder_linear_results + '/tip_deflection.txt', delimiter = ',')\n",
    "time_array_linear = np.loadtxt(folder_linear_results + '/time_array_linear.txt', delimiter = ',')\n",
    "normalised_tip_deflection_linear = tip_deflection_linear / (0.5 *pazy_model_ROM.b_ref) * 100\n",
    "control_surface_deflection_deg = np.loadtxt(folder_linear_results + '/deflection.txt', delimiter = ',')\n",
    "control_surface_deflection_rate_deg = np.loadtxt(folder_linear_results + '/deflection_rate.txt', delimiter = ',')\n",
    "\n",
    "# Plot Data\n",
    "fig, axs = plt.subplots(3, 1)\n",
    "list_linestyles = ['-', '-', '--', ':']\n",
    "list_labels = ['linear P=5', 'linear P=10', 'linear open-loop', 'nonlinear open-loop']\n",
    "for i in range(3):\n",
    "    axs[0].plot(time_array_linear, normalised_tip_deflection_linear[:,i], list_linestyles[i], label=list_labels[i])\n",
    "\n",
    "axs[0].plot(time_array, normalised_tip_displacement, list_linestyles[-1], label=list_labels[-1])\n",
    "axs[0].legend()\n",
    "axs[0].set(ylabel='$z_{tip}/(b_{ref}/2)$, %')\n",
    "\n",
    "for i in range(3):\n",
    "    axs[1].plot(time_array_linear, control_surface_deflection_deg[:,i], list_linestyles[i])\n",
    "    \n",
    "axs[1].set(ylabel='$\\delta$, deg')\n",
    "for i in range(3):\n",
    "    axs[2].plot(time_array_linear, control_surface_deflection_rate_deg[:,i], list_linestyles[i])\n",
    "    \n",
    "axs[2].set(ylabel='$\\dot{\\delta}$, deg/sec')\n",
    "for ax in axs.flat:\n",
    "    ax.set(xlabel='time, sec')\n"
   ]
  },
  {
   "attachments": {},
   "cell_type": "markdown",
   "metadata": {},
   "source": [
    "We can see here the slightly higher peak tip deflection in the nonlinear response. Further, we see a significant reduction in tip deflection by the P-controller. Since we only have slightly higher aileron deflection and rates for the higher gain of P=10, we chose this gain value for the final control design applied to the nonlinear aeroelastic gust response simulation."
   ]
  },
  {
   "attachments": {},
   "cell_type": "markdown",
   "metadata": {},
   "source": [
    "## Closed-Loop Nonlinear Gust Response\n",
    "Now, we need a similar simulation setup as the open-loop nonlinear response and activate the gust again."
   ]
  },
  {
   "cell_type": "code",
   "execution_count": null,
   "metadata": {},
   "outputs": [],
   "source": [
    "case_name = 'pazy_udp_closed_loop_gust_response'\n",
    "gust = True\n",
    "flow = ['BeamLoader',\n",
    "        'AerogridLoader',\n",
    "        'StaticCoupled',\n",
    "        'DynamicCoupled',\n",
    "        ]"
   ]
  },
  {
   "attachments": {},
   "cell_type": "markdown",
   "metadata": {},
   "source": [
    "However, we need to inform SHARPy that our aileron will receive deflection values from the network which is done by setting the control surface type of both ailerons to  `2`. The default value `0` would indicate a static deflection, and  `1` that the control surface receives deflection inputs from the  `dynamiccontrolsurface` generator. For the sake of completeness, we set the initial deflection of the ailerons to zero.    "
   ]
  },
  {
   "cell_type": "code",
   "execution_count": null,
   "metadata": {},
   "outputs": [],
   "source": [
    "initial_cs_deflection = [0, 0]\n",
    "cs_type = 2 "
   ]
  },
  {
   "cell_type": "code",
   "execution_count": null,
   "metadata": {},
   "outputs": [],
   "source": [
    "pazy_model_closed = wings.PazyControlSurface(M=number_chordwise_panels,\n",
    "                                      N=number_spanwise_nodes,\n",
    "                                      Mstar_fact=wake_length_factor,\n",
    "                                      u_inf=u_inf,\n",
    "                                      alpha=alpha_deg,\n",
    "                                      cs_deflection=initial_cs_deflection,\n",
    "                                      rho=rho,\n",
    "                                      n_surfaces=2,\n",
    "                                      route=cases_folder + '/' + case_name,\n",
    "                                      case_name=case_name,\n",
    "                                      physical_time=simulation_time,\n",
    "                                      cs_type=cs_type)\n",
    "generate_aero_and_fem_input_files(pazy_model_closed)"
   ]
  },
  {
   "attachments": {},
   "cell_type": "markdown",
   "metadata": {},
   "source": [
    "Next, we need to define our network settings. Therefore, we need to define the IP addresses for the server (SHARPy) and client (on whatever machine you run your computer), and the ports used. Another important input is the `variables_filename` in which we define the in and output parameters. Have a look in the file and make sure to change the position of your output node in case you make the beam discretisation finer. As we only need to measure the vertical tip displacement for our controller to work, we only have one sensor. We just save this parameter here as it is important later for the client to know, how much data it should receive from SHARPy."
   ]
  },
  {
   "cell_type": "code",
   "execution_count": null,
   "metadata": {},
   "outputs": [],
   "source": [
    "#  Network settings for nonlinear in closed-loop simulations   \n",
    "server_ip_addr = '127.0.0.1' # SHARPy\n",
    "client_ip_addr = '127.0.0.1' # controller\n",
    "port_in_network = 64017\n",
    "port_out_network_server = 59017\n",
    "port_out_network_client = 59007  \n",
    "num_sensors = 1 \n",
    "network_settings = {'variables_filename': route_notebook_dir + '/pazy_network_info.yml', \n",
    "                                        'send_output_to_all_clients': False,\n",
    "                                        'byte_ordering': 'little',\n",
    "                                        'log_name': output_folder +'/'+ case_name + '/sharpy_network.log',\n",
    "                                        'file_log_level': 'debug',\n",
    "                                        'console_log_level': 'error',\n",
    "                                        'input_network_settings': {'address': server_ip_addr,\n",
    "                                                                        'port': port_in_network,\n",
    "                                                                        },\n",
    "                                        'output_network_settings': {'send_on_demand': False,\n",
    "                                                                        'port': port_out_network_server,\n",
    "                                                                        'address':server_ip_addr, \n",
    "                                                                        'destination_address': [client_ip_addr],\n",
    "                                                                        'destination_ports': [port_out_network_client],\n",
    "                                                                }\n",
    "                                                }\n",
    "\n"
   ]
  },
  {
   "cell_type": "code",
   "execution_count": null,
   "metadata": {},
   "outputs": [],
   "source": [
    "pazy_model_closed.set_default_config_dict()\n",
    "pazy_model_closed.config = get_settings_udp(pazy_model_closed,\n",
    "                            flow,\n",
    "                            network_settings=network_settings,\n",
    "                            num_cores=num_cores,\n",
    "                            wake_length_factor=wake_length_factor,\n",
    "                            output_folder = output_folder,\n",
    "                            gust=gust,\n",
    "                            gust_settings=gust_settings,\n",
    "                            write_screen = False)\n",
    "pazy_model_closed.config.write()"
   ]
  },
  {
   "attachments": {},
   "cell_type": "markdown",
   "metadata": {},
   "source": [
    "As before, we save some essential parameters to a json file that is loaded from the client. This is done to avoid the need of changing parameters in different files."
   ]
  },
  {
   "cell_type": "code",
   "execution_count": null,
   "metadata": {},
   "outputs": [],
   "source": [
    "\n",
    "dict_parameters = {\"server_ip_addr\": server_ip_addr,\n",
    "                   \"client_ip_addr\": client_ip_addr,\n",
    "                   \"port_in_network\": port_in_network,\n",
    "                   \"port_out_network_server\": port_out_network_server,\n",
    "                   \"port_out_network_client\": port_out_network_client,\n",
    "                   \"output_folder\": os.path.abspath(output_folder),\n",
    "                   \"dt\": pazy_model_closed.dt,\n",
    "                   \"simulation_time\": simulation_time,\n",
    "                   \"num_sensors\": num_sensors,\n",
    "                   \"initial_cs_deflection\": initial_cs_deflection,\n",
    "                   \"reference_deflection\": tip_displacement_open_loop[0],\n",
    "                  }\n",
    "with open('./parameter_UDP_control_{}.json'.format(pazy_model_closed.case_name), 'w') as fp:\n",
    "    json.dump(dict_parameters, fp)"
   ]
  },
  {
   "attachments": {},
   "cell_type": "markdown",
   "metadata": {},
   "source": [
    "Now let us start the nonlinear gust-response simulation. Within the `DynamicCoupled` solver, the network expects an input before the actual simulation start. Hence, let the script run until you enter this solver and start the controller by running *pazy_PID_controller_UDP.py* located in the notebook directory. \n",
    "\n",
    "Note that the log file is not written here on the screen as it causes errors as the amount of output characters exceeds the available buffer size of the jupyter notebook. Please look into the server or simulation log files to get information on the current simulation status."
   ]
  },
  {
   "cell_type": "code",
   "execution_count": null,
   "metadata": {
    "scrolled": true
   },
   "outputs": [],
   "source": [
    "sharpy.sharpy_main.main(['', pazy_model_closed.route + pazy_model_closed.case_name + '.sharpy']);"
   ]
  },
  {
   "attachments": {},
   "cell_type": "markdown",
   "metadata": {},
   "source": [
    "## Final Postprocessing"
   ]
  },
  {
   "cell_type": "code",
   "execution_count": null,
   "metadata": {},
   "outputs": [],
   "source": [
    "control_surface_input = np.loadtxt(os.path.join(output_folder, pazy_model_closed.case_name, \"pazy_udp_closed_loop_gust_response_control_input\"))\n",
    "delta_dot = np.diff(np.rad2deg(control_surface_input))/pazy_model_closed.dt\n",
    "tip_displacement_nonlinear_P10 = np.loadtxt(os.path.join(output_folder, pazy_model_closed.case_name, \"pazy_udp_closed_loop_gust_response_sensor_measurement\"))\n",
    "time_array_nonlinear_closed_loop = np.arange(0, len(tip_displacement_nonlinear_P10) * pazy_model_closed.dt, pazy_model_closed.dt)\n",
    "tip_displacement_nonlinear_P10 /= pazy_model_closed.b_ref/2\n",
    "tip_displacement_nonlinear_P10 *= 100"
   ]
  },
  {
   "cell_type": "code",
   "execution_count": null,
   "metadata": {},
   "outputs": [],
   "source": [
    "# Plot Data\n",
    "fig, axs = plt.subplots(3, 1)\n",
    "list_linestyles = ['-', '--', ':']\n",
    "list_labels = ['linear P=10', 'nonlinear P=10', 'nonlinear open-loop']\n",
    "axs[0].plot(time_array_linear, normalised_tip_deflection_linear[:,1], list_linestyles[0], label=list_labels[0])\n",
    "axs[0].plot(time_array_nonlinear_closed_loop, \n",
    "            tip_displacement_nonlinear_P10, \n",
    "            list_linestyles[1], \n",
    "            label=list_labels[1])\n",
    "axs[0].plot(time_array, normalised_tip_displacement, list_linestyles[-1], label=list_labels[-1])\n",
    "\n",
    "axs[0].legend()\n",
    "axs[0].set(ylabel='$z_{tip}/(b_{ref}/2)$, %')\n",
    "\n",
    "\n",
    "axs[1].plot(time_array_linear, control_surface_deflection_deg[:,1], list_linestyles[0])\n",
    "axs[1].plot(time_array_nonlinear_closed_loop, np.rad2deg(control_surface_input), list_linestyles[1])\n",
    "    \n",
    "axs[1].set(ylabel='$\\delta$, deg')\n",
    "\n",
    "axs[2].plot(time_array_linear, control_surface_deflection_rate_deg[:,0], list_linestyles[0])\n",
    "axs[2].plot(time_array_nonlinear_closed_loop[1:], \n",
    "            delta_dot, \n",
    "            list_linestyles[1])\n",
    "    \n",
    "axs[2].set(ylabel='$\\dot{\\delta}$, deg/sec')\n",
    "for ax in axs.flat:\n",
    "    ax.set(xlabel='time, sec')"
   ]
  }
 ],
 "metadata": {
  "kernelspec": {
   "display_name": "Python 3 (ipykernel)",
   "language": "python",
   "name": "python3"
  },
  "language_info": {
   "codemirror_mode": {
    "name": "ipython",
    "version": 3
   },
   "file_extension": ".py",
   "mimetype": "text/x-python",
   "name": "python",
   "nbconvert_exporter": "python",
   "pygments_lexer": "ipython3",
   "version": "3.10.12"
  }
 },
 "nbformat": 4,
 "nbformat_minor": 4
}
